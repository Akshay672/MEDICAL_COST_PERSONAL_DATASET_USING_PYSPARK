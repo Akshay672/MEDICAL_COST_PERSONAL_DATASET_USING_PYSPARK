{
 "cells": [
  {
   "cell_type": "code",
   "execution_count": 14,
   "id": "7b821e15",
   "metadata": {},
   "outputs": [],
   "source": [
    "#libraries will be imported where ever required"
   ]
  },
  {
   "cell_type": "code",
   "execution_count": 102,
   "id": "72c18cb6",
   "metadata": {},
   "outputs": [],
   "source": [
    "from pyspark.sql import SparkSession"
   ]
  },
  {
   "cell_type": "code",
   "execution_count": 103,
   "id": "0a71a559",
   "metadata": {},
   "outputs": [],
   "source": [
    "#creating a basic spark session\n",
    "spark = SparkSession.builder.appName('insurance_dataset').getOrCreate()"
   ]
  },
  {
   "cell_type": "code",
   "execution_count": 104,
   "id": "dee3b63e",
   "metadata": {},
   "outputs": [
    {
     "name": "stdout",
     "output_type": "stream",
     "text": [
      "+---+------+-----+--------+------+---------+---------+\n",
      "|age|sex   |bmi  |children|smoker|region   |charges  |\n",
      "+---+------+-----+--------+------+---------+---------+\n",
      "|19 |female|27.9 |0       |yes   |southwest|16884.924|\n",
      "|18 |male  |33.77|1       |no    |southeast|1725.5523|\n",
      "+---+------+-----+--------+------+---------+---------+\n",
      "only showing top 2 rows\n",
      "\n"
     ]
    }
   ],
   "source": [
    "df=spark.read.csv('D://M. Tech in Data Science & Machine Learning//Big Data Analytics//Sem_Prep//insurance//insurance.csv', header=True,inferSchema=True)\n",
    "df.show(2,False)                 "
   ]
  },
  {
   "cell_type": "code",
   "execution_count": 105,
   "id": "2ab9c5c6",
   "metadata": {},
   "outputs": [
    {
     "data": {
      "text/plain": [
       "1338"
      ]
     },
     "execution_count": 105,
     "metadata": {},
     "output_type": "execute_result"
    }
   ],
   "source": [
    "df.count()#total length of the dataset"
   ]
  },
  {
   "cell_type": "code",
   "execution_count": 106,
   "id": "e3a4c034",
   "metadata": {},
   "outputs": [
    {
     "data": {
      "text/plain": [
       "7"
      ]
     },
     "execution_count": 106,
     "metadata": {},
     "output_type": "execute_result"
    }
   ],
   "source": [
    "len(df.columns)#total columns"
   ]
  },
  {
   "cell_type": "code",
   "execution_count": 107,
   "id": "1724baba",
   "metadata": {},
   "outputs": [
    {
     "name": "stdout",
     "output_type": "stream",
     "text": [
      "root\n",
      " |-- age: integer (nullable = true)\n",
      " |-- sex: string (nullable = true)\n",
      " |-- bmi: double (nullable = true)\n",
      " |-- children: integer (nullable = true)\n",
      " |-- smoker: string (nullable = true)\n",
      " |-- region: string (nullable = true)\n",
      " |-- charges: double (nullable = true)\n",
      "\n"
     ]
    }
   ],
   "source": [
    "df.printSchema()#column summary"
   ]
  },
  {
   "cell_type": "code",
   "execution_count": 108,
   "id": "6fbadc59",
   "metadata": {},
   "outputs": [
    {
     "name": "stdout",
     "output_type": "stream",
     "text": [
      "column Name: age   column datatype: int\n",
      "column Name: sex   column datatype: string\n",
      "column Name: bmi   column datatype: double\n",
      "column Name: children   column datatype: int\n",
      "column Name: smoker   column datatype: string\n",
      "column Name: region   column datatype: string\n",
      "column Name: charges   column datatype: double\n"
     ]
    }
   ],
   "source": [
    "for i, t in df.dtypes:#column and its datatypes\n",
    "    print('column Name:', i, ' ','column datatype:',t)"
   ]
  },
  {
   "cell_type": "code",
   "execution_count": 109,
   "id": "34238fa4",
   "metadata": {},
   "outputs": [
    {
     "data": {
      "text/html": [
       "<div>\n",
       "<style scoped>\n",
       "    .dataframe tbody tr th:only-of-type {\n",
       "        vertical-align: middle;\n",
       "    }\n",
       "\n",
       "    .dataframe tbody tr th {\n",
       "        vertical-align: top;\n",
       "    }\n",
       "\n",
       "    .dataframe thead th {\n",
       "        text-align: right;\n",
       "    }\n",
       "</style>\n",
       "<table border=\"1\" class=\"dataframe\">\n",
       "  <thead>\n",
       "    <tr style=\"text-align: right;\">\n",
       "      <th></th>\n",
       "      <th>age</th>\n",
       "      <th>bmi</th>\n",
       "      <th>children</th>\n",
       "      <th>charges</th>\n",
       "    </tr>\n",
       "  </thead>\n",
       "  <tbody>\n",
       "    <tr>\n",
       "      <th>count</th>\n",
       "      <td>1338.000000</td>\n",
       "      <td>1338.000000</td>\n",
       "      <td>1338.000000</td>\n",
       "      <td>1338.000000</td>\n",
       "    </tr>\n",
       "    <tr>\n",
       "      <th>mean</th>\n",
       "      <td>39.207025</td>\n",
       "      <td>30.663397</td>\n",
       "      <td>1.094918</td>\n",
       "      <td>13270.422265</td>\n",
       "    </tr>\n",
       "    <tr>\n",
       "      <th>std</th>\n",
       "      <td>14.049960</td>\n",
       "      <td>6.098187</td>\n",
       "      <td>1.205493</td>\n",
       "      <td>12110.011237</td>\n",
       "    </tr>\n",
       "    <tr>\n",
       "      <th>min</th>\n",
       "      <td>18.000000</td>\n",
       "      <td>15.960000</td>\n",
       "      <td>0.000000</td>\n",
       "      <td>1121.873900</td>\n",
       "    </tr>\n",
       "    <tr>\n",
       "      <th>25%</th>\n",
       "      <td>27.000000</td>\n",
       "      <td>26.296250</td>\n",
       "      <td>0.000000</td>\n",
       "      <td>4740.287150</td>\n",
       "    </tr>\n",
       "    <tr>\n",
       "      <th>50%</th>\n",
       "      <td>39.000000</td>\n",
       "      <td>30.400000</td>\n",
       "      <td>1.000000</td>\n",
       "      <td>9382.033000</td>\n",
       "    </tr>\n",
       "    <tr>\n",
       "      <th>75%</th>\n",
       "      <td>51.000000</td>\n",
       "      <td>34.693750</td>\n",
       "      <td>2.000000</td>\n",
       "      <td>16639.912515</td>\n",
       "    </tr>\n",
       "    <tr>\n",
       "      <th>max</th>\n",
       "      <td>64.000000</td>\n",
       "      <td>53.130000</td>\n",
       "      <td>5.000000</td>\n",
       "      <td>63770.428010</td>\n",
       "    </tr>\n",
       "  </tbody>\n",
       "</table>\n",
       "</div>"
      ],
      "text/plain": [
       "               age          bmi     children       charges\n",
       "count  1338.000000  1338.000000  1338.000000   1338.000000\n",
       "mean     39.207025    30.663397     1.094918  13270.422265\n",
       "std      14.049960     6.098187     1.205493  12110.011237\n",
       "min      18.000000    15.960000     0.000000   1121.873900\n",
       "25%      27.000000    26.296250     0.000000   4740.287150\n",
       "50%      39.000000    30.400000     1.000000   9382.033000\n",
       "75%      51.000000    34.693750     2.000000  16639.912515\n",
       "max      64.000000    53.130000     5.000000  63770.428010"
      ]
     },
     "execution_count": 109,
     "metadata": {},
     "output_type": "execute_result"
    }
   ],
   "source": [
    "df.toPandas().describe()#statsical summary"
   ]
  },
  {
   "cell_type": "code",
   "execution_count": 110,
   "id": "a4522a32",
   "metadata": {},
   "outputs": [],
   "source": [
    "from pyspark.sql.functions import isnan, col, count, max, min, when"
   ]
  },
  {
   "cell_type": "code",
   "execution_count": 111,
   "id": "c7fb18bd",
   "metadata": {},
   "outputs": [
    {
     "name": "stdout",
     "output_type": "stream",
     "text": [
      "+---+---+---+--------+------+------+-------+\n",
      "|age|sex|bmi|children|smoker|region|charges|\n",
      "+---+---+---+--------+------+------+-------+\n",
      "|  0|  0|  0|       0|     0|     0|      0|\n",
      "+---+---+---+--------+------+------+-------+\n",
      "\n"
     ]
    }
   ],
   "source": [
    "df.select([count(when(isnan(c)| col(c).isNull(),c)).alias(c)  for c in df.columns]).show()"
   ]
  },
  {
   "cell_type": "code",
   "execution_count": 112,
   "id": "f25160c0",
   "metadata": {},
   "outputs": [],
   "source": [
    "#There are no null values present"
   ]
  },
  {
   "cell_type": "code",
   "execution_count": 113,
   "id": "54762ab7",
   "metadata": {},
   "outputs": [],
   "source": [
    "#Bucketizer"
   ]
  },
  {
   "cell_type": "code",
   "execution_count": 114,
   "id": "e9b098e1",
   "metadata": {},
   "outputs": [],
   "source": [
    "from pyspark.ml.feature import Bucketizer"
   ]
  },
  {
   "cell_type": "code",
   "execution_count": 115,
   "id": "2d540b3b",
   "metadata": {},
   "outputs": [
    {
     "name": "stdout",
     "output_type": "stream",
     "text": [
      "+---+-----+\n",
      "|age|count|\n",
      "+---+-----+\n",
      "| 31|   27|\n",
      "| 53|   28|\n",
      "| 34|   26|\n",
      "| 28|   28|\n",
      "| 27|   28|\n",
      "| 26|   28|\n",
      "| 44|   27|\n",
      "| 22|   28|\n",
      "| 47|   29|\n",
      "| 52|   29|\n",
      "| 40|   27|\n",
      "| 20|   29|\n",
      "| 57|   26|\n",
      "| 54|   28|\n",
      "| 48|   29|\n",
      "| 19|   68|\n",
      "| 64|   22|\n",
      "| 41|   27|\n",
      "| 43|   27|\n",
      "| 37|   25|\n",
      "+---+-----+\n",
      "only showing top 20 rows\n",
      "\n"
     ]
    }
   ],
   "source": [
    "df.groupby('age').count().show()"
   ]
  },
  {
   "cell_type": "code",
   "execution_count": 116,
   "id": "a9b7092e",
   "metadata": {},
   "outputs": [
    {
     "name": "stdout",
     "output_type": "stream",
     "text": [
      "+--------+\n",
      "|max(age)|\n",
      "+--------+\n",
      "|      64|\n",
      "+--------+\n",
      "\n"
     ]
    }
   ],
   "source": [
    "df.agg({'age':'max'}).show()"
   ]
  },
  {
   "cell_type": "code",
   "execution_count": 117,
   "id": "78ac5137",
   "metadata": {},
   "outputs": [
    {
     "name": "stdout",
     "output_type": "stream",
     "text": [
      "+--------+\n",
      "|min(age)|\n",
      "+--------+\n",
      "|      18|\n",
      "+--------+\n",
      "\n"
     ]
    }
   ],
   "source": [
    "df.agg({'age':'min'}).show()"
   ]
  },
  {
   "cell_type": "code",
   "execution_count": 118,
   "id": "ec168ce4",
   "metadata": {},
   "outputs": [],
   "source": [
    "#age group are between 18 to 64\n",
    "split=[18, 30, 40 ,50 ,64]\n",
    "bucketizer=Bucketizer(splits=split,inputCol='age',outputCol='age_group')\n",
    "df1=bucketizer.transform(df)"
   ]
  },
  {
   "cell_type": "code",
   "execution_count": 119,
   "id": "85c48346",
   "metadata": {},
   "outputs": [
    {
     "name": "stdout",
     "output_type": "stream",
     "text": [
      "+---------+\n",
      "|age_group|\n",
      "+---------+\n",
      "|0.0      |\n",
      "|0.0      |\n",
      "|0.0      |\n",
      "+---------+\n",
      "only showing top 3 rows\n",
      "\n"
     ]
    }
   ],
   "source": [
    "df1.select('age_group').show(3,False)"
   ]
  },
  {
   "cell_type": "code",
   "execution_count": 120,
   "id": "51042552",
   "metadata": {},
   "outputs": [],
   "source": [
    "#String Indexer"
   ]
  },
  {
   "cell_type": "code",
   "execution_count": 121,
   "id": "e2c18e02",
   "metadata": {},
   "outputs": [],
   "source": [
    "from pyspark.ml.feature import StringIndexer"
   ]
  },
  {
   "cell_type": "code",
   "execution_count": 122,
   "id": "a2987afd",
   "metadata": {},
   "outputs": [
    {
     "name": "stdout",
     "output_type": "stream",
     "text": [
      "column Name: sex   column datatype: string\n",
      "column Name: smoker   column datatype: string\n",
      "column Name: region   column datatype: string\n"
     ]
    }
   ],
   "source": [
    "indexers=[]\n",
    "for i, t in df.dtypes:\n",
    "    if t=='string':\n",
    "        print('column Name:', i, ' ','column datatype:',t)\n",
    "        indexers.append(i)"
   ]
  },
  {
   "cell_type": "code",
   "execution_count": 123,
   "id": "7866f633",
   "metadata": {},
   "outputs": [
    {
     "data": {
      "text/plain": [
       "['sex', 'smoker', 'region']"
      ]
     },
     "execution_count": 123,
     "metadata": {},
     "output_type": "execute_result"
    }
   ],
   "source": [
    "indexers"
   ]
  },
  {
   "cell_type": "code",
   "execution_count": 124,
   "id": "d2a15482",
   "metadata": {},
   "outputs": [],
   "source": [
    "indexer=StringIndexer(inputCols=['sex', 'smoker', 'region'], outputCols=['sex_index', 'smoker_index', 'region_index'])\n",
    "df2=indexer.fit(df1).transform(df1)"
   ]
  },
  {
   "cell_type": "code",
   "execution_count": 125,
   "id": "048e3781",
   "metadata": {},
   "outputs": [
    {
     "name": "stdout",
     "output_type": "stream",
     "text": [
      "+---+-----+--------+---------+---------+---------+------------+------------+\n",
      "|age|bmi  |children|charges  |age_group|sex_index|smoker_index|region_index|\n",
      "+---+-----+--------+---------+---------+---------+------------+------------+\n",
      "|19 |27.9 |0       |16884.924|0.0      |1.0      |1.0         |2.0         |\n",
      "|18 |33.77|1       |1725.5523|0.0      |0.0      |0.0         |0.0         |\n",
      "+---+-----+--------+---------+---------+---------+------------+------------+\n",
      "only showing top 2 rows\n",
      "\n"
     ]
    }
   ],
   "source": [
    "df2=df2.drop('sex', 'smoker', 'region')\n",
    "df2.show(2,False)"
   ]
  },
  {
   "cell_type": "code",
   "execution_count": 126,
   "id": "79e3d1bf",
   "metadata": {},
   "outputs": [],
   "source": [
    "#Vector assembler"
   ]
  },
  {
   "cell_type": "code",
   "execution_count": 127,
   "id": "0c17b4f1",
   "metadata": {},
   "outputs": [
    {
     "data": {
      "text/plain": [
       "['age',\n",
       " 'bmi',\n",
       " 'children',\n",
       " 'charges',\n",
       " 'age_group',\n",
       " 'sex_index',\n",
       " 'smoker_index',\n",
       " 'region_index']"
      ]
     },
     "execution_count": 127,
     "metadata": {},
     "output_type": "execute_result"
    }
   ],
   "source": [
    "df2.columns"
   ]
  },
  {
   "cell_type": "code",
   "execution_count": 128,
   "id": "d20987e7",
   "metadata": {},
   "outputs": [],
   "source": [
    "from pyspark.ml.feature import VectorAssembler"
   ]
  },
  {
   "cell_type": "code",
   "execution_count": 129,
   "id": "75495087",
   "metadata": {},
   "outputs": [],
   "source": [
    "assembler=VectorAssembler(inputCols=['age','bmi','children','age_group','sex_index','smoker_index','region_index'], \n",
    "                          outputCol='features')\n",
    "df3=assembler.transform(df2)"
   ]
  },
  {
   "cell_type": "code",
   "execution_count": 130,
   "id": "0bf998ae",
   "metadata": {},
   "outputs": [
    {
     "name": "stdout",
     "output_type": "stream",
     "text": [
      "+--------------------+\n",
      "|            features|\n",
      "+--------------------+\n",
      "|[19.0,27.9,0.0,0....|\n",
      "|(7,[0,1,2],[18.0,...|\n",
      "|(7,[0,1,2],[28.0,...|\n",
      "|[33.0,22.705,0.0,...|\n",
      "|[32.0,28.88,0.0,1...|\n",
      "|[31.0,25.74,0.0,1...|\n",
      "|[46.0,33.44,1.0,2...|\n",
      "|[37.0,27.74,3.0,1...|\n",
      "|[37.0,29.83,2.0,1...|\n",
      "|[60.0,25.84,0.0,3...|\n",
      "|(7,[0,1,6],[25.0,...|\n",
      "|[62.0,26.29,0.0,3...|\n",
      "|(7,[0,1,6],[23.0,...|\n",
      "|[56.0,39.82,0.0,3...|\n",
      "|(7,[0,1,5],[27.0,...|\n",
      "|[19.0,24.6,1.0,0....|\n",
      "|[52.0,30.78,1.0,3...|\n",
      "|(7,[0,1,6],[23.0,...|\n",
      "|[56.0,40.3,0.0,3....|\n",
      "|[30.0,35.3,0.0,1....|\n",
      "+--------------------+\n",
      "only showing top 20 rows\n",
      "\n"
     ]
    }
   ],
   "source": [
    "df3.select('features').show()"
   ]
  },
  {
   "cell_type": "code",
   "execution_count": 131,
   "id": "5c2643d0",
   "metadata": {},
   "outputs": [],
   "source": [
    "#Train Test Split"
   ]
  },
  {
   "cell_type": "code",
   "execution_count": 132,
   "id": "ada3150a",
   "metadata": {},
   "outputs": [
    {
     "name": "stdout",
     "output_type": "stream",
     "text": [
      "934\n",
      "404\n"
     ]
    }
   ],
   "source": [
    "train1, test1 = df4.randomSplit([0.7, 0.3], 2)\n",
    "print(train1.count())\n",
    "print(test1.count())"
   ]
  },
  {
   "cell_type": "code",
   "execution_count": 133,
   "id": "a800142d",
   "metadata": {},
   "outputs": [],
   "source": [
    "#Model building"
   ]
  },
  {
   "cell_type": "code",
   "execution_count": 156,
   "id": "43a06239",
   "metadata": {},
   "outputs": [],
   "source": [
    "from pyspark.ml.regression import LinearRegression"
   ]
  },
  {
   "cell_type": "code",
   "execution_count": 157,
   "id": "8eb6a0d5",
   "metadata": {},
   "outputs": [],
   "source": [
    "lr=LinearRegression(featuresCol='features',labelCol='charges')\n",
    "lr_model=lr.fit(train1)"
   ]
  },
  {
   "cell_type": "code",
   "execution_count": 158,
   "id": "eef8d0bb",
   "metadata": {},
   "outputs": [],
   "source": [
    "lr_model_summary=lr_model.summary"
   ]
  },
  {
   "cell_type": "code",
   "execution_count": 159,
   "id": "9c4e6449",
   "metadata": {},
   "outputs": [
    {
     "name": "stdout",
     "output_type": "stream",
     "text": [
      "MSE:  35093323.19303611\n",
      "MAE:  4000.731256008842\n",
      "R-squared:  0.742671792971815\n"
     ]
    }
   ],
   "source": [
    "print(\"MSE: \", lr_model.summary.meanSquaredError)\n",
    "print(\"MAE: \", lr_model.summary.meanAbsoluteError)\n",
    "print(\"R-squared: \", lr_model.summary.r2) "
   ]
  },
  {
   "cell_type": "code",
   "execution_count": 160,
   "id": "86ca11e8",
   "metadata": {},
   "outputs": [
    {
     "name": "stdout",
     "output_type": "stream",
     "text": [
      "Coefficients:  [214.40936066883455,309.51243449333765,506.94517505593484,400.5024706197547,87.91822204562507,23602.01575211057,332.8722363707116]\n",
      "\n",
      "Intercept:  -11293.799062682676\n"
     ]
    }
   ],
   "source": [
    "print(\"Coefficients: \", lr_model.coefficients)\n",
    "print('')\n",
    "print(\"Intercept: \", lr_model.intercept)"
   ]
  },
  {
   "cell_type": "code",
   "execution_count": null,
   "id": "e3307fa1",
   "metadata": {},
   "outputs": [],
   "source": [
    "#---------------------------------------------------------END---------------------------------------------------#"
   ]
  }
 ],
 "metadata": {
  "kernelspec": {
   "display_name": "Python 3",
   "language": "python",
   "name": "python3"
  },
  "language_info": {
   "codemirror_mode": {
    "name": "ipython",
    "version": 3
   },
   "file_extension": ".py",
   "mimetype": "text/x-python",
   "name": "python",
   "nbconvert_exporter": "python",
   "pygments_lexer": "ipython3",
   "version": "3.6.13"
  }
 },
 "nbformat": 4,
 "nbformat_minor": 5
}
